{
 "cells": [
  {
   "cell_type": "markdown",
   "metadata": {},
   "source": [
    "# run with [slim_conservation_scoring](https://github.com/jacksonh1/slim_conservation_scoring) environment\n",
    "`mamba activate slim_conservation_scoring`"
   ]
  },
  {
   "cell_type": "markdown",
   "metadata": {},
   "source": [
    "# grantham matrix"
   ]
  },
  {
   "cell_type": "code",
   "execution_count": 2,
   "metadata": {},
   "outputs": [],
   "source": [
    "from pathlib import Path"
   ]
  },
  {
   "cell_type": "code",
   "execution_count": 3,
   "metadata": {},
   "outputs": [],
   "source": [
    "grantham_directory = Path(\"../../data/matrices/grantham_matrix/\")\n",
    "grantham_directory.mkdir(parents=True, exist_ok=True)"
   ]
  },
  {
   "cell_type": "markdown",
   "metadata": {},
   "source": [
    "The grantham matrix is from a paper from 1974 (DOI: 10.1126/science.185.4154.862). I am going to download a tsv of this matrix from the recent [SHARK]( https://git.mpi-cbg.de/tothpetroczylab/shark) tools for convenience."
   ]
  },
  {
   "cell_type": "code",
   "execution_count": 4,
   "metadata": {},
   "outputs": [
    {
     "name": "stdout",
     "output_type": "stream",
     "text": [
      "  % Total    % Received % Xferd  Average Speed   Time    Time     Time  Current\n",
      "                                 Dload  Upload   Total   Spent    Left  Speed\n",
      "100  1436  100  1436    0     0    983      0  0:00:01  0:00:01 --:--:--   982\n"
     ]
    }
   ],
   "source": [
    "!curl \"https://owncloud.mpi-cbg.de/index.php/s/c8F3El6tUAC97hl/download?path=%2Fdata&files=grantham.tsv\" -o \"../../data/matrices/grantham_matrix/grantham.tsv\""
   ]
  },
  {
   "cell_type": "code",
   "execution_count": 5,
   "metadata": {},
   "outputs": [],
   "source": [
    "import .substitution_matrices as submats\n",
    "import pandas as pd\n",
    "\n",
    "df = pd.read_csv(grantham_directory / 'grantham.tsv', sep='\\t', index_col=0)\n",
    "df.to_csv(grantham_directory / 'grantham.csv')\n",
    "\n",
    "df_norm = submats.normalize_matrix_df(df)\n",
    "df_norm.to_csv(grantham_directory / 'grantham_norm.csv')\n",
    "\n",
    "# convert the distance matrix to a similarity matrix\n",
    "df_sim_norm = 1-df_norm\n",
    "df_sim_norm.to_csv(grantham_directory / 'grantham_similarity_norm.csv')"
   ]
  },
  {
   "cell_type": "code",
   "execution_count": null,
   "metadata": {},
   "outputs": [],
   "source": []
  },
  {
   "cell_type": "markdown",
   "metadata": {},
   "source": [
    "# EDSSmat matrices"
   ]
  },
  {
   "cell_type": "markdown",
   "metadata": {},
   "source": [
    "These are substitution matrices for disordered regions from this publication:<br>\n",
    ">Trivedi, R., Nagarajaram, H.A. Amino acid substitution scoring matrices specific to intrinsically disordered regions in proteins. Sci Rep 9, 16380 (2019). https://doi.org/10.1038/s41598-019-52532-8"
   ]
  },
  {
   "cell_type": "markdown",
   "metadata": {},
   "source": [
    "download and unzip the dataset"
   ]
  },
  {
   "cell_type": "code",
   "execution_count": 6,
   "metadata": {},
   "outputs": [],
   "source": [
    "disorder_directory = Path(\"../../data/matrices/disorder-matrix/\")\n",
    "disorder_directory.mkdir(parents=True, exist_ok=True)"
   ]
  },
  {
   "cell_type": "code",
   "execution_count": 9,
   "metadata": {},
   "outputs": [
    {
     "name": "stdout",
     "output_type": "stream",
     "text": [
      "  % Total    % Received % Xferd  Average Speed   Time    Time     Time  Current\n",
      "                                 Dload  Upload   Total   Spent    Left  Speed\n",
      "  0     0    0     0    0     0      0      0 --:--:--  0:00:44 --:--:--     0    0 --:--:--  0:00:12 --:--:--     0     0 --:--:--  0:00:17 --:--:--     0^C\n"
     ]
    }
   ],
   "source": [
    "!curl \"http://www.cdfd.org.in/labpages/Matrices_and_Datasets.tar.gz\" -o \"../../data/matrices/disorder-matrix/Matrices_and_Datasets.tar.gz\""
   ]
  },
  {
   "cell_type": "code",
   "execution_count": 12,
   "metadata": {},
   "outputs": [
    {
     "name": "stdout",
     "output_type": "stream",
     "text": [
      "x Matrices_and_Datasets/\n",
      "x Matrices_and_Datasets/.DS_Store\n",
      "x Matrices_and_Datasets/Datasets/\n",
      "x Matrices_and_Datasets/Datasets/LD_test_dataset\n",
      "x Matrices_and_Datasets/Datasets/._HD_test_dataset\n",
      "x Matrices_and_Datasets/Datasets/MD_test_dataset\n",
      "x Matrices_and_Datasets/Datasets/EUMAT_dataset\n",
      "x Matrices_and_Datasets/Datasets/._MD_test_dataset\n",
      "x Matrices_and_Datasets/Datasets/HD_test_dataset\n",
      "x Matrices_and_Datasets/Matrices/\n",
      "x Matrices_and_Datasets/Matrices/EDSSMat80\n",
      "x Matrices_and_Datasets/Matrices/EDSSMat70\n",
      "x Matrices_and_Datasets/Matrices/EDSSMat75\n",
      "x Matrices_and_Datasets/Matrices/EDSSMat90\n",
      "x Matrices_and_Datasets/Matrices/EDSSMat50\n",
      "x Matrices_and_Datasets/Matrices/EDSSMat60\n",
      "x Matrices_and_Datasets/Matrices/EDSSMat62\n"
     ]
    }
   ],
   "source": [
    "!tar -xvzf \"../../data/matrices/disorder-matrix/Matrices_and_Datasets.tar.gz\" -C \"../../data/matrices/disorder-matrix/\""
   ]
  },
  {
   "cell_type": "markdown",
   "metadata": {},
   "source": [
    "---"
   ]
  },
  {
   "cell_type": "markdown",
   "metadata": {},
   "source": [
    "# prepare some normalized and aligner-friendly version of the matrices and save them in the local_data directory\n",
    "- saving them in the local_data directory allows them to be installed with the local source tools as a package"
   ]
  },
  {
   "cell_type": "code",
   "execution_count": 15,
   "metadata": {},
   "outputs": [],
   "source": [
    "from pathlib import Path\n",
    "import pandas as pd\n",
    "from Bio import Align\n",
    "from pyprojroot import here"
   ]
  },
  {
   "cell_type": "code",
   "execution_count": 16,
   "metadata": {},
   "outputs": [],
   "source": [
    "root = here()\n",
    "local_data = root / \"slim_conservation_scoring\" / \"local_data\"\n",
    "matrix_folder = local_data / \"substitution_matrices\"\n",
    "matrix_folder.mkdir(exist_ok=True)"
   ]
  },
  {
   "cell_type": "code",
   "execution_count": 17,
   "metadata": {},
   "outputs": [],
   "source": [
    "def prep_matrix_dfs(mat_df, mat_name, output_dir: str|Path=\"./matrices\"):\n",
    "    output_dir = Path(output_dir)\n",
    "    mat_df = mat_df.copy()\n",
    "    mat_df_new_diag = submats.matrixdf_diagonal_2_max_off_diagonal(mat_df)\n",
    "    mat_df_norm = submats.normalize_matrix_df(mat_df)\n",
    "    mat_df_new_diag_norm = submats.normalize_matrix_df(mat_df_new_diag)\n",
    "    mat_df_sqrt_norm = submats.sqrt_normalize_matrix_df(mat_df)\n",
    "\n",
    "    mat_df.to_csv(output_dir / f\"{mat_name}.csv\")\n",
    "    mat_df_new_diag.to_csv(output_dir / f\"{mat_name}_max_off_diagonal.csv\")\n",
    "    mat_df_norm.to_csv(output_dir / f\"{mat_name}_norm.csv\")\n",
    "    mat_df_new_diag_norm.to_csv(output_dir / f\"{mat_name}_max_off_diagonal_norm.csv\")\n",
    "    mat_df_sqrt_norm.to_csv(output_dir / f\"{mat_name}_sqrt_norm.csv\")"
   ]
  },
  {
   "cell_type": "code",
   "execution_count": 18,
   "metadata": {},
   "outputs": [],
   "source": [
    "matrix_name = \"BLOSUM62\"\n",
    "matBLOSUM62_df = submats.load_matrix_as_df(matrix_name)\n",
    "prep_matrix_dfs(matBLOSUM62_df, matrix_name, output_dir=matrix_folder)"
   ]
  },
  {
   "cell_type": "code",
   "execution_count": 20,
   "metadata": {},
   "outputs": [
    {
     "data": {
      "text/plain": [
       "PosixPath('/Users/jackson/Dropbox (MIT)/work/07-SLiM_bioinformatics/05-conservation_pipeline/src/local_data/substitution_matrices/EDSSMat50')"
      ]
     },
     "execution_count": 20,
     "metadata": {},
     "output_type": "execute_result"
    }
   ],
   "source": [
    "matrix_name = \"EDSSMat50\"\n",
    "mat = Align.substitution_matrices.read(\n",
    "    disorder_directory / \"Matrices_and_Datasets/Matrices/EDSSMat50\"\n",
    ")\n",
    "matEDSS50_df = submats.convert_matrix_array_2_df(mat)\n",
    "prep_matrix_dfs(matEDSS50_df, matrix_name, output_dir=matrix_folder)\n",
    "import shutil\n",
    "shutil.copy(disorder_directory / \"Matrices_and_Datasets/Matrices/EDSSMat50\", matrix_folder / \"EDSSMat50\")"
   ]
  },
  {
   "cell_type": "code",
   "execution_count": 21,
   "metadata": {},
   "outputs": [],
   "source": [
    "matrix_name = \"grantham_similarity\"\n",
    "gran_df = pd.read_csv(grantham_directory / \"grantham_similarity_norm.csv\", index_col=0)\n",
    "prep_matrix_dfs(gran_df, matrix_name, output_dir=matrix_folder)\n",
    "gran_df_aligner = round(gran_df*100)\n",
    "gran_df_aligner = gran_df_aligner.astype(int)\n",
    "gran_df_aligner.to_csv(matrix_folder / 'grantham_similarity_normx100_aligner_compatible', sep=' ')"
   ]
  },
  {
   "cell_type": "code",
   "execution_count": null,
   "metadata": {},
   "outputs": [],
   "source": []
  },
  {
   "cell_type": "code",
   "execution_count": null,
   "metadata": {},
   "outputs": [],
   "source": []
  }
 ],
 "metadata": {
  "kernelspec": {
   "display_name": "odb_conservation",
   "language": "python",
   "name": "python3"
  },
  "language_info": {
   "codemirror_mode": {
    "name": "ipython",
    "version": 3
   },
   "file_extension": ".py",
   "mimetype": "text/x-python",
   "name": "python",
   "nbconvert_exporter": "python",
   "pygments_lexer": "ipython3",
   "version": "3.12.1"
  }
 },
 "nbformat": 4,
 "nbformat_minor": 2
}
