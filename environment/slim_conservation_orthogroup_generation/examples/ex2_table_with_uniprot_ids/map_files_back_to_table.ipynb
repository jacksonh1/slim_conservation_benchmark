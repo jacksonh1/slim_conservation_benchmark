{
 "cells": [
  {
   "cell_type": "code",
   "execution_count": 2,
   "id": "db2adc18",
   "metadata": {},
   "outputs": [],
   "source": [
    "import json\n",
    "import re\n",
    "from pathlib import Path\n",
    "\n",
    "import pandas as pd"
   ]
  },
  {
   "cell_type": "markdown",
   "id": "23333fb1",
   "metadata": {},
   "source": [
    "import table and specify pipeline output folder"
   ]
  },
  {
   "cell_type": "code",
   "execution_count": 3,
   "id": "6d2b6b90",
   "metadata": {},
   "outputs": [],
   "source": [
    "table_path = './table.csv'\n",
    "pipeline_output_path = './output/info_jsons/'\n",
    "output_folder = Path(pipeline_output_path)"
   ]
  },
  {
   "cell_type": "markdown",
   "id": "d0955152",
   "metadata": {},
   "source": [
    "get list of json files in the folder"
   ]
  },
  {
   "cell_type": "code",
   "execution_count": 12,
   "id": "1e713e8b",
   "metadata": {},
   "outputs": [],
   "source": [
    "# .resolve() is used to get the absolute path\n",
    "json_filelist = [f.resolve() for f in output_folder.glob('*.json')]"
   ]
  },
  {
   "cell_type": "markdown",
   "id": "58f19214",
   "metadata": {},
   "source": [
    "import each json file and extract the uniprot id. Use it to create a mapping between uniprot id and the json file path"
   ]
  },
  {
   "cell_type": "code",
   "execution_count": 13,
   "id": "741f5e6d",
   "metadata": {},
   "outputs": [
    {
     "name": "stdout",
     "output_type": "stream",
     "text": [
      "A0A1U9X8D2 /Users/jackson/Dropbox (MIT)/work/07-SLiM_bioinformatics/04-orthoDB_local_orthogroup_creation/examples/ex2_table_with_uniprot_ids/output/info_jsons/9606_0_001c7b_Vertebrata_1567973at7742_info.json\n",
      "Q8TC90 /Users/jackson/Dropbox (MIT)/work/07-SLiM_bioinformatics/04-orthoDB_local_orthogroup_creation/examples/ex2_table_with_uniprot_ids/output/info_jsons/9606_0_002f40_Vertebrata_869863at7742_info.json\n"
     ]
    }
   ],
   "source": [
    "def get_uniprot_id_from_json(json_file: Path) -> str:\n",
    "    with open(json_file, 'r') as f:\n",
    "        json_dict = json.load(f)\n",
    "    return json_dict['query_uniprot_id']\n",
    "\n",
    "json_file_map = {}\n",
    "for file in json_filelist:\n",
    "    print(get_uniprot_id_from_json(file), file)\n",
    "    json_file_map[get_uniprot_id_from_json(file)] = file"
   ]
  },
  {
   "cell_type": "markdown",
   "id": "adfd02ea",
   "metadata": {},
   "source": [
    "map the file back to the table"
   ]
  },
  {
   "cell_type": "code",
   "execution_count": 14,
   "id": "c156d737",
   "metadata": {},
   "outputs": [
    {
     "data": {
      "text/html": [
       "<div>\n",
       "<style scoped>\n",
       "    .dataframe tbody tr th:only-of-type {\n",
       "        vertical-align: middle;\n",
       "    }\n",
       "\n",
       "    .dataframe tbody tr th {\n",
       "        vertical-align: top;\n",
       "    }\n",
       "\n",
       "    .dataframe thead th {\n",
       "        text-align: right;\n",
       "    }\n",
       "</style>\n",
       "<table border=\"1\" class=\"dataframe\">\n",
       "  <thead>\n",
       "    <tr style=\"text-align: right;\">\n",
       "      <th></th>\n",
       "      <th>Uniprotid</th>\n",
       "      <th>hit_sequence</th>\n",
       "    </tr>\n",
       "  </thead>\n",
       "  <tbody>\n",
       "    <tr>\n",
       "      <th>0</th>\n",
       "      <td>A6ND36</td>\n",
       "      <td>FPGPPRY</td>\n",
       "    </tr>\n",
       "    <tr>\n",
       "      <th>1</th>\n",
       "      <td>C9J302</td>\n",
       "      <td>FPTPPNY</td>\n",
       "    </tr>\n",
       "    <tr>\n",
       "      <th>2</th>\n",
       "      <td>Q8TC90</td>\n",
       "      <td>KNDDEEE</td>\n",
       "    </tr>\n",
       "    <tr>\n",
       "      <th>3</th>\n",
       "      <td>A0A1U9X8D2</td>\n",
       "      <td>FRHLLEY</td>\n",
       "    </tr>\n",
       "  </tbody>\n",
       "</table>\n",
       "</div>"
      ],
      "text/plain": [
       "    Uniprotid hit_sequence\n",
       "0      A6ND36      FPGPPRY\n",
       "1      C9J302      FPTPPNY\n",
       "2      Q8TC90      KNDDEEE\n",
       "3  A0A1U9X8D2      FRHLLEY"
      ]
     },
     "execution_count": 14,
     "metadata": {},
     "output_type": "execute_result"
    }
   ],
   "source": [
    "table = pd.read_csv(table_path)\n",
    "table.head()"
   ]
  },
  {
   "cell_type": "code",
   "execution_count": 15,
   "id": "3d07738d",
   "metadata": {},
   "outputs": [
    {
     "data": {
      "text/html": [
       "<div>\n",
       "<style scoped>\n",
       "    .dataframe tbody tr th:only-of-type {\n",
       "        vertical-align: middle;\n",
       "    }\n",
       "\n",
       "    .dataframe tbody tr th {\n",
       "        vertical-align: top;\n",
       "    }\n",
       "\n",
       "    .dataframe thead th {\n",
       "        text-align: right;\n",
       "    }\n",
       "</style>\n",
       "<table border=\"1\" class=\"dataframe\">\n",
       "  <thead>\n",
       "    <tr style=\"text-align: right;\">\n",
       "      <th></th>\n",
       "      <th>Uniprotid</th>\n",
       "      <th>hit_sequence</th>\n",
       "      <th>ortholog group json</th>\n",
       "    </tr>\n",
       "  </thead>\n",
       "  <tbody>\n",
       "    <tr>\n",
       "      <th>0</th>\n",
       "      <td>A6ND36</td>\n",
       "      <td>FPGPPRY</td>\n",
       "      <td>NaN</td>\n",
       "    </tr>\n",
       "    <tr>\n",
       "      <th>1</th>\n",
       "      <td>C9J302</td>\n",
       "      <td>FPTPPNY</td>\n",
       "      <td>NaN</td>\n",
       "    </tr>\n",
       "    <tr>\n",
       "      <th>2</th>\n",
       "      <td>Q8TC90</td>\n",
       "      <td>KNDDEEE</td>\n",
       "      <td>/Users/jackson/Dropbox (MIT)/work/07-SLiM_bioi...</td>\n",
       "    </tr>\n",
       "    <tr>\n",
       "      <th>3</th>\n",
       "      <td>A0A1U9X8D2</td>\n",
       "      <td>FRHLLEY</td>\n",
       "      <td>/Users/jackson/Dropbox (MIT)/work/07-SLiM_bioi...</td>\n",
       "    </tr>\n",
       "  </tbody>\n",
       "</table>\n",
       "</div>"
      ],
      "text/plain": [
       "    Uniprotid hit_sequence                                ortholog group json\n",
       "0      A6ND36      FPGPPRY                                                NaN\n",
       "1      C9J302      FPTPPNY                                                NaN\n",
       "2      Q8TC90      KNDDEEE  /Users/jackson/Dropbox (MIT)/work/07-SLiM_bioi...\n",
       "3  A0A1U9X8D2      FRHLLEY  /Users/jackson/Dropbox (MIT)/work/07-SLiM_bioi..."
      ]
     },
     "execution_count": 15,
     "metadata": {},
     "output_type": "execute_result"
    }
   ],
   "source": [
    "table['ortholog group json'] = table['Uniprotid'].map(json_file_map)\n",
    "table.head()"
   ]
  },
  {
   "cell_type": "markdown",
   "id": "3d52f6a5",
   "metadata": {},
   "source": [
    "notice that it failed to find 2 of the uniprot ids in the database. That's because they are not in the sample dataset that I created for this repo"
   ]
  },
  {
   "cell_type": "markdown",
   "id": "8b8e1fac",
   "metadata": {},
   "source": [
    "---"
   ]
  },
  {
   "cell_type": "markdown",
   "id": "21b7f0b5",
   "metadata": {},
   "source": [
    "you can easily add more information to the table from the json files<br>\n",
    "Let's try adding the number of sequences in the final ortholog group and the odb_gene_id for each protein"
   ]
  },
  {
   "cell_type": "code",
   "execution_count": 18,
   "id": "dab2fc63",
   "metadata": {},
   "outputs": [
    {
     "name": "stdout",
     "output_type": "stream",
     "text": [
      "query_odb_gene_id\n",
      "query_sequence_str\n",
      "ogid\n",
      "oglevel\n",
      "sequences\n",
      "sequences_filtered\n",
      "sequences_ldos\n",
      "sequences_clustered_ldos\n",
      "cdhit_command\n",
      "query_uniprot_id\n",
      "processing params\n"
     ]
    }
   ],
   "source": [
    "with open(json_filelist[0]) as f:\n",
    "    test_json = json.load(f)\n",
    "for i in test_json.keys(): print(i)"
   ]
  },
  {
   "cell_type": "markdown",
   "id": "8afecb29",
   "metadata": {},
   "source": [
    "there are a lot of ways to do this but let's just repeat what we did above for the sake of time <br>\n",
    "in a real situation, you would probably want to think about how to do this in a more efficient way"
   ]
  },
  {
   "cell_type": "code",
   "execution_count": 29,
   "id": "b81ad987",
   "metadata": {},
   "outputs": [],
   "source": [
    "def get_odb_gene_id_from_json(json_file: Path) -> str:\n",
    "    with open(json_file, 'r') as f:\n",
    "        json_dict = json.load(f)\n",
    "    return json_dict['query_odb_gene_id']\n",
    "\n",
    "def get_n_clustered_ldos_from_json(json_file: Path) -> str:\n",
    "    with open(json_file, 'r') as f:\n",
    "        json_dict = json.load(f)\n",
    "    return len(json_dict['sequences_clustered_ldos'])"
   ]
  },
  {
   "cell_type": "code",
   "execution_count": 30,
   "id": "9a919ed4",
   "metadata": {},
   "outputs": [],
   "source": [
    "id_map = {k: get_odb_gene_id_from_json(v) for k, v in json_file_map.items()}\n",
    "n_clustered_ldos_map = {k: get_n_clustered_ldos_from_json(v) for k, v in json_file_map.items()}\n",
    "table['odb gene id'] = table['Uniprotid'].map(id_map)\n",
    "table['n clustered ldos'] = table['Uniprotid'].map(n_clustered_ldos_map)"
   ]
  },
  {
   "cell_type": "code",
   "execution_count": 31,
   "id": "ad3237c0",
   "metadata": {},
   "outputs": [
    {
     "data": {
      "text/html": [
       "<div>\n",
       "<style scoped>\n",
       "    .dataframe tbody tr th:only-of-type {\n",
       "        vertical-align: middle;\n",
       "    }\n",
       "\n",
       "    .dataframe tbody tr th {\n",
       "        vertical-align: top;\n",
       "    }\n",
       "\n",
       "    .dataframe thead th {\n",
       "        text-align: right;\n",
       "    }\n",
       "</style>\n",
       "<table border=\"1\" class=\"dataframe\">\n",
       "  <thead>\n",
       "    <tr style=\"text-align: right;\">\n",
       "      <th></th>\n",
       "      <th>Uniprotid</th>\n",
       "      <th>hit_sequence</th>\n",
       "      <th>ortholog group json</th>\n",
       "      <th>odb gene id</th>\n",
       "      <th>n clustered ldos</th>\n",
       "    </tr>\n",
       "  </thead>\n",
       "  <tbody>\n",
       "    <tr>\n",
       "      <th>0</th>\n",
       "      <td>A6ND36</td>\n",
       "      <td>FPGPPRY</td>\n",
       "      <td>NaN</td>\n",
       "      <td>NaN</td>\n",
       "      <td>NaN</td>\n",
       "    </tr>\n",
       "    <tr>\n",
       "      <th>1</th>\n",
       "      <td>C9J302</td>\n",
       "      <td>FPTPPNY</td>\n",
       "      <td>NaN</td>\n",
       "      <td>NaN</td>\n",
       "      <td>NaN</td>\n",
       "    </tr>\n",
       "    <tr>\n",
       "      <th>2</th>\n",
       "      <td>Q8TC90</td>\n",
       "      <td>KNDDEEE</td>\n",
       "      <td>/Users/jackson/Dropbox (MIT)/work/07-SLiM_bioi...</td>\n",
       "      <td>9606_0:002f40</td>\n",
       "      <td>143.0</td>\n",
       "    </tr>\n",
       "    <tr>\n",
       "      <th>3</th>\n",
       "      <td>A0A1U9X8D2</td>\n",
       "      <td>FRHLLEY</td>\n",
       "      <td>/Users/jackson/Dropbox (MIT)/work/07-SLiM_bioi...</td>\n",
       "      <td>9606_0:001c7b</td>\n",
       "      <td>119.0</td>\n",
       "    </tr>\n",
       "  </tbody>\n",
       "</table>\n",
       "</div>"
      ],
      "text/plain": [
       "    Uniprotid hit_sequence                                ortholog group json  \\\n",
       "0      A6ND36      FPGPPRY                                                NaN   \n",
       "1      C9J302      FPTPPNY                                                NaN   \n",
       "2      Q8TC90      KNDDEEE  /Users/jackson/Dropbox (MIT)/work/07-SLiM_bioi...   \n",
       "3  A0A1U9X8D2      FRHLLEY  /Users/jackson/Dropbox (MIT)/work/07-SLiM_bioi...   \n",
       "\n",
       "     odb gene id  n clustered ldos  \n",
       "0            NaN               NaN  \n",
       "1            NaN               NaN  \n",
       "2  9606_0:002f40             143.0  \n",
       "3  9606_0:001c7b             119.0  "
      ]
     },
     "execution_count": 31,
     "metadata": {},
     "output_type": "execute_result"
    }
   ],
   "source": [
    "table.head()"
   ]
  },
  {
   "cell_type": "code",
   "execution_count": 32,
   "id": "632632cc",
   "metadata": {},
   "outputs": [],
   "source": [
    "table.to_csv('table_with_results.csv', index=False)"
   ]
  }
 ],
 "metadata": {
  "jupytext": {
   "cell_metadata_filter": "-all",
   "formats": "ipynb,py:percent"
  },
  "kernelspec": {
   "display_name": "odb_groups_x86",
   "language": "python",
   "name": "python3"
  },
  "language_info": {
   "codemirror_mode": {
    "name": "ipython",
    "version": 3
   },
   "file_extension": ".py",
   "mimetype": "text/x-python",
   "name": "python",
   "nbconvert_exporter": "python",
   "pygments_lexer": "ipython3",
   "version": "3.12.0"
  }
 },
 "nbformat": 4,
 "nbformat_minor": 5
}
