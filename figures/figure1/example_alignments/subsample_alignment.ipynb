{
 "cells": [
  {
   "cell_type": "code",
   "execution_count": null,
   "metadata": {},
   "outputs": [],
   "source": [
    "import shutil\n",
    "import os\n",
    "import pandas as pd\n",
    "import numpy as np\n",
    "import matplotlib.pyplot as plt\n",
    "import seaborn as sns\n",
    "import slim_conservation_scoring.pipeline.group_conservation_objects as group_tools\n",
    "from pathlib import Path\n",
    "import slim_conservation_scoring.seqtools.general_utils as tools\n",
    "\n",
    "table_file = \"../../../benchmark/benchmark_v4/MSA_comparison/benchmark_table_MSA_comparison_ANNOTATED.csv\"\n",
    "table = pd.read_csv(table_file)\n",
    "table = table[\n",
    "    [\n",
    "        \"reference_index\",\n",
    "        \"Organism\",\n",
    "        \"Primary_Acc\",\n",
    "        \"Accessions\",\n",
    "        \"UniprotID\",\n",
    "        \"regex\",\n",
    "        \"hit_sequence\",\n",
    "        \"gene_id\",\n",
    "        \"hit start position\",\n",
    "        \"hit end position\",\n",
    "        \"verified interaction\",\n",
    "        \"ELM_motif_class\",\n",
    "        \"name\",\n",
    "        \"critical_error\",\n",
    "        \"json_file\",\n",
    "    ]\n",
    "]\n",
    "\n",
    "enah_df = table[\n",
    "    (table[\"ELM_motif_class\"] == \"enah_LPPPP_FPPPP\") & (table[\"verified interaction\"])\n",
    "].copy()\n",
    "OUTPUT_DIR = Path(\"./ena_motif_alignments\")\n",
    "OUTPUT_DIR.mkdir(exist_ok=True, parents=True)\n",
    "\n",
    "# %%\n",
    "# ==============================================================================\n",
    "# // copy over alignments and slices\n",
    "# ==============================================================================\n",
    "\n",
    "LEVELS = [\"Metazoa\", \"Vertebrata\"]\n",
    "for i, row in enah_df.iterrows():\n",
    "    folder = OUTPUT_DIR / f\"{row['reference_index']}_{row['name']}_{row['gene_id']}\"\n",
    "    folder.mkdir(exist_ok=True, parents=True)\n",
    "    json_path = Path(row[\"json_file\"])\n",
    "    og = group_tools.ConserGene(json_path)\n",
    "    for level in LEVELS:\n",
    "        if level not in og.levels_passing_filters:\n",
    "            continue\n",
    "        lvlo = og.get_level_obj(level)\n",
    "        aln_file = Path(lvlo.alignment_file)\n",
    "        # copy the alignment file\n",
    "        shutil.copy(aln_file, folder / aln_file.name)\n",
    "        shutil.copy(\n",
    "            lvlo.info_dict[\"aln_slice_file\"],\n",
    "            folder / Path(lvlo.info_dict[\"aln_slice_file\"]).name,\n",
    "        )\n",
    "    enah_df.loc[i, \"folder\"] = str(folder)"
   ]
  },
  {
   "cell_type": "markdown",
   "metadata": {},
   "source": [
    "# 2333"
   ]
  },
  {
   "cell_type": "markdown",
   "metadata": {},
   "source": [
    "I think I will choose reference ID 2333 (AB1IP_HUMAN, also known as RIAM) as an example where the alignment is particularly difficult"
   ]
  },
  {
   "cell_type": "code",
   "execution_count": 2,
   "metadata": {},
   "outputs": [
    {
     "name": "stdout",
     "output_type": "stream",
     "text": [
      "The autoreload extension is already loaded. To reload it, use:\n",
      "  %reload_ext autoreload\n"
     ]
    }
   ],
   "source": [
    "import slim_conservation_scoring.seqtools.general_utils as tools\n",
    "import pandas as pd\n",
    "import numpy as np\n",
    "import slim_conservation_scoring.pipeline.group_conservation_objects as group_tools\n",
    "import json\n",
    "import copy\n",
    "import os\n",
    "import re\n",
    "import sys\n",
    "from pathlib import Path\n",
    "from Bio import AlignIO, Seq, SeqIO, Align\n",
    "\n",
    "%load_ext autoreload\n",
    "%autoreload 2"
   ]
  },
  {
   "cell_type": "code",
   "execution_count": 3,
   "metadata": {},
   "outputs": [],
   "source": [
    "aln_file = \"./ena_motif_alignments/2333_AB1IP_HUMAN_9606_0:00294e/9606_0_00294e_Vertebrata_1587055at7742_clustered_ldos_aln.fasta\"\n",
    "table = pd.read_csv(\"./enah_table.csv\")\n",
    "og = group_tools.ConserGene(\n",
    "    table.loc[table[\"reference_index\"] == 2333][\"json_file\"].values[0]\n",
    ")\n",
    "lvl = og.get_level_obj(\"Vertebrata\")\n",
    "x = lvl.aln[:, lvl.hit_aln_start - 30 : lvl.hit_aln_end + 30]\n",
    "query_aln = lvl.query_aln_sequence[lvl.hit_aln_start - 30 : lvl.hit_aln_end + 30]\n",
    "x = tools.sort_aln_by_pid2ref(x, query_aln)\n",
    "subsampled_list = tools.subsample_seqrec_list_target_num(x, target_num=20)\n",
    "subsampled_id_list = [x.id for x in subsampled_list]\n",
    "aln_dict = {s.id: s for s in lvl.aln}\n",
    "subsampled_fl_aln = [aln_dict[i] for i in subsampled_id_list]\n",
    "with open(\"./2333_subsampled_aln_Vertebrata.fasta\", \"w\") as f:\n",
    "    SeqIO.write(subsampled_fl_aln, f, \"fasta\")"
   ]
  }
 ],
 "metadata": {
  "jupytext": {
   "formats": "ipynb,py:percent"
  },
  "kernelspec": {
   "display_name": "odb_conservation",
   "language": "python",
   "name": "python3"
  },
  "language_info": {
   "codemirror_mode": {
    "name": "ipython",
    "version": 3
   },
   "file_extension": ".py",
   "mimetype": "text/x-python",
   "name": "python",
   "nbconvert_exporter": "python",
   "pygments_lexer": "ipython3",
   "version": "3.12.3"
  }
 },
 "nbformat": 4,
 "nbformat_minor": 2
}
