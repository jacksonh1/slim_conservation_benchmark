{
 "cells": [
  {
   "cell_type": "markdown",
   "metadata": {},
   "source": [
    "# 2243"
   ]
  },
  {
   "cell_type": "markdown",
   "metadata": {},
   "source": [
    "I think I will choose reference ID 2243 (AB1IP_HUMAN, also known as RIAM) as an example where the alignment is particularly problematic"
   ]
  },
  {
   "cell_type": "code",
   "execution_count": 3,
   "metadata": {},
   "outputs": [
    {
     "name": "stdout",
     "output_type": "stream",
     "text": [
      "The autoreload extension is already loaded. To reload it, use:\n",
      "  %reload_ext autoreload\n"
     ]
    }
   ],
   "source": [
    "import local_seqtools.general_utils as tools\n",
    "import pandas as pd\n",
    "import numpy as np\n",
    "import local_conservation_analysis_pipeline.group_conservation_objects as group_tools\n",
    "import json\n",
    "import copy\n",
    "import os\n",
    "import re\n",
    "import sys\n",
    "from pathlib import Path\n",
    "from Bio import AlignIO, Seq, SeqIO, Align\n",
    "\n",
    "%load_ext autoreload\n",
    "%autoreload 2"
   ]
  },
  {
   "cell_type": "code",
   "execution_count": 6,
   "metadata": {},
   "outputs": [],
   "source": [
    "def filepath_converter(filepath):\n",
    "    return filepath.replace('/home/jch/Documents/07-pt1_pt2_combined', '../../..')"
   ]
  },
  {
   "cell_type": "code",
   "execution_count": 7,
   "metadata": {},
   "outputs": [],
   "source": [
    "aln_file = \"./ena_motif_alignments/2243_AB1IP_HUMAN_9606_0:00294e/9606_0_00294e_Vertebrata_1587055at7742_clustered_ldos_aln.fasta\"\n",
    "table = pd.read_csv(\"./enah_table.csv\")\n",
    "og = group_tools.ConserGene(table.loc[table['reference_index'] == 2243]['json_file'].values[0], filepath_converter=filepath_converter)\n",
    "lvl = og.get_level_obj(\"Vertebrata\", filepath_converter=filepath_converter)\n",
    "x = tools.sort_aln_by_pid2ref(lvl.aln, lvl.query_aln_sequence)\n",
    "subsampled_aln_list = tools.subsample_seqrec_list_target_num(x, target_num=20)\n",
    "with open(f'../../../../11-pairk/pairk/examples/example_alignment_{og.query_gene_id.replace(\":\", \"_\")}-idr-{lvl.idr_aln_start}_to_{lvl.idr_aln_end}.fasta', 'w') as f:\n",
    "    SeqIO.write(subsampled_aln_list, f, 'fasta')"
   ]
  },
  {
   "cell_type": "code",
   "execution_count": 19,
   "metadata": {},
   "outputs": [],
   "source": [
    "aln_file = \"./ena_motif_alignments/2243_AB1IP_HUMAN_9606_0:00294e/9606_0_00294e_Vertebrata_1587055at7742_clustered_ldos_aln.fasta\"\n",
    "table = pd.read_csv(\"./enah_table.csv\")\n",
    "og = group_tools.ConserGene(table.loc[table['reference_index'] == 2243]['json_file'].values[0])\n",
    "lvl = og.get_level_obj(\"Vertebrata\")\n",
    "x = lvl.aln[:,lvl.hit_aln_start - 30:lvl.hit_aln_end + 30]\n",
    "query_aln= lvl.query_aln_sequence[lvl.hit_aln_start - 30:lvl.hit_aln_end + 30]\n",
    "x = tools.sort_aln_by_pid2ref(x, query_aln)\n",
    "subsampled_list=tools.subsample_seqrec_list_target_num(x, target_num=20)\n",
    "subsampled_id_list = [x.id for x in subsampled_list]\n",
    "aln_dict = {s.id: s for s in lvl.aln}\n",
    "subsampled_fl_aln = [aln_dict[i] for i in subsampled_id_list]\n",
    "with open('./2243_subsampled_aln_Vertebrata.fasta', 'w') as f:\n",
    "    SeqIO.write(subsampled_fl_aln, f, 'fasta')"
   ]
  },
  {
   "cell_type": "markdown",
   "metadata": {},
   "source": [
    "# 2246"
   ]
  },
  {
   "cell_type": "code",
   "execution_count": 20,
   "metadata": {},
   "outputs": [],
   "source": [
    "aln_file = \"./ena_motif_alignments/2246_LPP_HUMAN_9606_0:000d90/9606_0_000d90_Metazoa_124801at33208_clustered_ldos_aln.fasta\"\n",
    "table = pd.read_csv(\"./enah_table.csv\")\n",
    "og = group_tools.ConserGene(table.loc[table['reference_index'] == 2246]['json_file'].values[0])\n",
    "lvl = og.get_level_obj(\"Metazoa\")\n",
    "# x = lvl.aln[:,lvl.hit_aln_start - 30:lvl.hit_aln_end + 30]\n",
    "# query_aln= lvl.query_aln_sequence[lvl.hit_aln_start - 30:lvl.hit_aln_end + 30]\n",
    "# x = tools.sort_aln_by_pid2ref(x, query_aln)\n",
    "# sort the full alignment\n",
    "x = tools.sort_aln_by_pid2ref(lvl.aln, lvl.query_aln_sequence)\n",
    "subsampled_list=tools.subsample_seqrec_list_target_num(x, target_num=20)\n",
    "subsampled_id_list = [x.id for x in subsampled_list]\n",
    "aln_dict = {s.id: s for s in lvl.aln}\n",
    "subsampled_fl_aln = [aln_dict[i] for i in subsampled_id_list]\n",
    "with open('./2246_subsampled_aln_metazoa.fasta', 'w') as f:\n",
    "    SeqIO.write(subsampled_fl_aln, f, 'fasta')"
   ]
  },
  {
   "cell_type": "code",
   "execution_count": 33,
   "metadata": {},
   "outputs": [],
   "source": [
    "aln_n = copy.deepcopy(lvl.aln[:,0:lvl.idr_aln_end+1])\n",
    "width = aln_n.get_alignment_length()\n",
    "aln_c = lvl.aln[:,lvl.idr_aln_end+1:]\n",
    "unaln_n = tools.strip_dashes_from_sequences(aln_n)\n",
    "new_aln_n = []\n",
    "for seq in unaln_n:\n",
    "    padded_seq = str(seq.seq).rjust(width, '-')\n",
    "    new_aln_n.append(tools.str2seqrecord(padded_seq, seq.id))\n",
    "new_aln_n = AlignIO.MultipleSeqAlignment(new_aln_n)\n",
    "new_aln = new_aln_n + aln_c\n",
    "with open('./2246_subsampled_aln_metazoa_padded_stripped_idr.fasta', 'w') as f:\n",
    "    SeqIO.write(new_aln, f, 'fasta')"
   ]
  },
  {
   "cell_type": "code",
   "execution_count": null,
   "metadata": {},
   "outputs": [],
   "source": []
  },
  {
   "cell_type": "code",
   "execution_count": 30,
   "metadata": {},
   "outputs": [
    {
     "data": {
      "text/plain": [
       "'--------------------------------------------------------------------------------------------------------------------------------------------------------------------------------------------------------------------------------------------------------------------------------------------------------------------------------------------------------------------------------------------------------------------------------------------------------------------------------------------------------------------------------------------------------------------------------------------------------------------------------------------------------------------------------------------------------------------------------------------------------------------------------------------------------------------------------------------------------------------------------------------------------------------------------------------------------------------------------------------------------------------------------------------------------------------------------------------------------------------------------------------------------------------------------------------------------------------------------------------------------------------------------------------------------------------------------------------------------------------------------------------------------------------------------------------------------------------------------------------------------------------------------------------------------------------------------------------------------------------------------------------------------------------------------------------------------------------------------------------------------------------------------------------------------------------------------------------------------------------------------------------------------------------------------------------------------------------------------------------------------------------------------------------------------------------------------------------------------------------------------------------------------------------------------------------------------------------------------------------------------------------------------------------------------------------------------------------------------------------------------------------------------------------------------------------------------------------------------------------------------------------------------------------------------------------------------------------------------------------------------------------------------------------------------------------------------------------------------------------------------------------------------------------------------------------------------------------------------------------------------------------------------------------------------------------------------------------------------------------------------------------------------------------------------------------------------------------------------------------------------------------------------------------------------------------------------------------------------------MSHPSWLPPKSTGEPLGHVPARMETTHSFGNPSISVSTQQPPKKFAPVVAPKPKYNPYKQPGGEGDFLPPPPPPLDDSSALPSISGNFPPPPPLDEEAFKVQGNPGGKTLEERRSSLDAEIDSLTSILADLECSSPYKPRPPQSSTGSTASPPVSTPVTGHKRMVIPNQPPLTATKKSTLKPQPAPQAGPIPVAPIGTLKPQPQPVPASYTTASTSSRPTFNVQVKSAQPSPHYMAAPSSGQIYGSGPQGYNTQPVPVSGQCPPPSTRGGMDYAYIPPPGLQPEPGYGYAPNQGRYYEGYYAAGPGYGGRNDSDPTYGQQGHPNTWKREPGYTPPGAGNQNPPGMYPVTGPKKTYITDPVSAPCAPPLQPKGGHSGQLGPSSVAPSFRPEDELEHLTKKMLYDME'"
      ]
     },
     "execution_count": 30,
     "metadata": {},
     "output_type": "execute_result"
    }
   ],
   "source": [
    "padded_seq"
   ]
  },
  {
   "cell_type": "code",
   "execution_count": 27,
   "metadata": {},
   "outputs": [
    {
     "name": "stdout",
     "output_type": "stream",
     "text": [
      "ab\n",
      "cd\n"
     ]
    }
   ],
   "source": [
    "test=\"abcd\"\n",
    "print(test[0:1+1])\n",
    "print(test[1+1:])"
   ]
  },
  {
   "cell_type": "code",
   "execution_count": 25,
   "metadata": {},
   "outputs": [
    {
     "data": {
      "text/plain": [
       "'-------AAA'"
      ]
     },
     "execution_count": 25,
     "metadata": {},
     "output_type": "execute_result"
    }
   ],
   "source": [
    "test = \"AAA\"\n",
    "test.rjust(10, '-')\n",
    "# pad the test sequence with '-' to the left\n"
   ]
  },
  {
   "cell_type": "code",
   "execution_count": null,
   "metadata": {},
   "outputs": [],
   "source": []
  }
 ],
 "metadata": {
  "kernelspec": {
   "display_name": "odb_conservation",
   "language": "python",
   "name": "python3"
  },
  "language_info": {
   "codemirror_mode": {
    "name": "ipython",
    "version": 3
   },
   "file_extension": ".py",
   "mimetype": "text/x-python",
   "name": "python",
   "nbconvert_exporter": "python",
   "pygments_lexer": "ipython3",
   "version": "3.12.1"
  }
 },
 "nbformat": 4,
 "nbformat_minor": 2
}
