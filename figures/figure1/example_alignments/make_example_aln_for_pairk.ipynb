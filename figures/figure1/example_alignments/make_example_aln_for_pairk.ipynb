{
 "cells": [
  {
   "cell_type": "markdown",
   "metadata": {},
   "source": [
    "# 2243"
   ]
  },
  {
   "cell_type": "markdown",
   "metadata": {},
   "source": [
    "I think I will choose reference ID 2243 (AB1IP_HUMAN, also known as RIAM) as an example where the alignment is particularly problematic"
   ]
  },
  {
   "cell_type": "code",
   "execution_count": 2,
   "metadata": {},
   "outputs": [
    {
     "name": "stdout",
     "output_type": "stream",
     "text": [
      "The autoreload extension is already loaded. To reload it, use:\n",
      "  %reload_ext autoreload\n"
     ]
    }
   ],
   "source": [
    "import local_seqtools.general_utils as tools\n",
    "import pandas as pd\n",
    "import numpy as np\n",
    "import local_conservation_analysis_pipeline.group_conservation_objects as group_tools\n",
    "import local_seqtools.cli_wrappers as cli\n",
    "import json\n",
    "import copy\n",
    "import os\n",
    "import re\n",
    "import sys\n",
    "from pathlib import Path\n",
    "from Bio import AlignIO, Seq, SeqIO, Align\n",
    "\n",
    "%load_ext autoreload\n",
    "%autoreload 2"
   ]
  },
  {
   "cell_type": "code",
   "execution_count": 3,
   "metadata": {},
   "outputs": [],
   "source": [
    "def filepath_converter(filepath):\n",
    "    return filepath.replace('/home/jch/Documents/07-pt1_pt2_combined', '../../..')"
   ]
  },
  {
   "cell_type": "code",
   "execution_count": 4,
   "metadata": {},
   "outputs": [],
   "source": [
    "aln_file = \"./ena_motif_alignments/2243_AB1IP_HUMAN_9606_0:00294e/9606_0_00294e_Vertebrata_1587055at7742_clustered_ldos_aln.fasta\"\n",
    "table = pd.read_csv(\"./enah_table.csv\")\n",
    "og = group_tools.ConserGene(table.loc[table['reference_index'] == 2243]['json_file'].values[0], filepath_converter=filepath_converter)\n",
    "lvl = og.get_level_obj(\"Vertebrata\", filepath_converter=filepath_converter)\n",
    "x = tools.sort_aln_by_pid2ref(lvl.aln, lvl.query_aln_sequence)\n",
    "subsampled_aln_list = tools.subsample_seqrec_list_target_num(x, target_num=20)\n"
   ]
  },
  {
   "cell_type": "code",
   "execution_count": 5,
   "metadata": {},
   "outputs": [],
   "source": [
    "mafft_command, mafft_output = cli.mafft_align_wrapper(tools.strip_dashes_from_sequences(subsampled_aln_list))"
   ]
  },
  {
   "cell_type": "code",
   "execution_count": 9,
   "metadata": {},
   "outputs": [],
   "source": [
    "query_aln_str = str(mafft_output[og.query_gene_id].seq)\n",
    "_, aln_index = tools.reindex_alignment_str(query_aln_str)\n",
    "idr_aln_start = aln_index[og.idr_start]\n",
    "idr_aln_end = aln_index[og.idr_end]\n",
    "new_aln_list = list(mafft_output.values())\n",
    "with open(f'../../../../11-pairk/pairk/examples/example_alignment_{og.query_gene_id.replace(\":\", \"_\")}-idraln-{idr_aln_start}_to_{idr_aln_end}-idr-{og.idr_start}_to_{og.idr_end}.fasta', 'w') as f:\n",
    "    SeqIO.write(new_aln_list, f, 'fasta')"
   ]
  }
 ],
 "metadata": {
  "kernelspec": {
   "display_name": "odb_conservation",
   "language": "python",
   "name": "python3"
  },
  "language_info": {
   "codemirror_mode": {
    "name": "ipython",
    "version": 3
   },
   "file_extension": ".py",
   "mimetype": "text/x-python",
   "name": "python",
   "nbconvert_exporter": "python",
   "pygments_lexer": "ipython3",
   "version": "3.12.1"
  }
 },
 "nbformat": 4,
 "nbformat_minor": 2
}
