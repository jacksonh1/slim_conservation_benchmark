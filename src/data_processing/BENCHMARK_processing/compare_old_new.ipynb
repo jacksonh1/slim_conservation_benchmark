{
 "cells": [
  {
   "cell_type": "code",
   "execution_count": 1,
   "metadata": {},
   "outputs": [],
   "source": [
    "import pandas as pd\n",
    "import json\n",
    "from pathlib import Path"
   ]
  },
  {
   "cell_type": "code",
   "execution_count": 6,
   "metadata": {},
   "outputs": [],
   "source": [
    "database_json = Path(\"../../../benchmark/benchmark_v4/p2_orthogroups/orthogroups/database_key.json\")\n",
    "with open(database_json) as f:\n",
    "    database_key = json.load(f)\n",
    "old_odbs = set(database_key.keys())"
   ]
  },
  {
   "cell_type": "code",
   "execution_count": 7,
   "metadata": {},
   "outputs": [],
   "source": [
    "df = pd.read_csv('../../../benchmark/benchmark_v4/p1_table/benchmark_table.csv')\n",
    "new_odbs=set(list(df['gene_id'].values))"
   ]
  },
  {
   "cell_type": "code",
   "execution_count": 10,
   "metadata": {},
   "outputs": [
    {
     "name": "stdout",
     "output_type": "stream",
     "text": [
      "539\n",
      "529\n"
     ]
    }
   ],
   "source": [
    "print(len(old_odbs.difference(new_odbs)))\n",
    "print(len(new_odbs.difference(old_odbs)))"
   ]
  }
 ],
 "metadata": {
  "kernelspec": {
   "display_name": "slim_conservation",
   "language": "python",
   "name": "python3"
  },
  "language_info": {
   "codemirror_mode": {
    "name": "ipython",
    "version": 3
   },
   "file_extension": ".py",
   "mimetype": "text/x-python",
   "name": "python",
   "nbconvert_exporter": "python",
   "pygments_lexer": "ipython3",
   "version": "3.12.3"
  }
 },
 "nbformat": 4,
 "nbformat_minor": 2
}
