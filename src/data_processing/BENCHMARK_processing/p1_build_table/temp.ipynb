{
 "cells": [
  {
   "cell_type": "code",
   "execution_count": 1,
   "metadata": {},
   "outputs": [],
   "source": [
    "from pathlib import Path\n",
    "from pyprojroot import here\n",
    "\n",
    "import orthodb_tools.sql_queries as sql_queries\n",
    "import orthodb_tools.tools.general_utils as tools\n",
    "import iupred_tools as iuptools\n",
    "import numpy as np\n",
    "import pandas as pd\n",
    "import yaml\n",
    "from Bio import Align, AlignIO, Seq, SeqIO\n",
    "import re\n"
   ]
  },
  {
   "cell_type": "code",
   "execution_count": 2,
   "metadata": {},
   "outputs": [],
   "source": [
    "BENCHMARK_DIR = here() / \"benchmark\" / \"benchmark_v4\" / \"p1_table\"\n",
    "benchmark_df = pd.read_csv(BENCHMARK_DIR / \"benchmark_table.csv\")"
   ]
  },
  {
   "cell_type": "code",
   "execution_count": 3,
   "metadata": {},
   "outputs": [],
   "source": [
    "import orthodb_tools.env_variables.env_variables as env\n",
    "ORTHODB_DATABASE = env.orthoDBDatabase()"
   ]
  },
  {
   "cell_type": "code",
   "execution_count": 4,
   "metadata": {},
   "outputs": [],
   "source": [
    "def get_seq_length(odb_gene_id: str) -> int:\n",
    "    return len(ORTHODB_DATABASE.data_all_seqrecords_dict[odb_gene_id].seq)"
   ]
  },
  {
   "cell_type": "code",
   "execution_count": 5,
   "metadata": {},
   "outputs": [],
   "source": [
    "benchmark_df['seq_length'] = benchmark_df['gene_id'].apply(get_seq_length)"
   ]
  },
  {
   "cell_type": "code",
   "execution_count": 6,
   "metadata": {},
   "outputs": [
    {
     "data": {
      "text/html": [
       "<div>\n",
       "<style scoped>\n",
       "    .dataframe tbody tr th:only-of-type {\n",
       "        vertical-align: middle;\n",
       "    }\n",
       "\n",
       "    .dataframe tbody tr th {\n",
       "        vertical-align: top;\n",
       "    }\n",
       "\n",
       "    .dataframe thead th {\n",
       "        text-align: right;\n",
       "    }\n",
       "</style>\n",
       "<table border=\"1\" class=\"dataframe\">\n",
       "  <thead>\n",
       "    <tr style=\"text-align: right;\">\n",
       "      <th>verified interaction</th>\n",
       "      <th>False</th>\n",
       "      <th>True</th>\n",
       "    </tr>\n",
       "    <tr>\n",
       "      <th>ELM_motif_class</th>\n",
       "      <th></th>\n",
       "      <th></th>\n",
       "    </tr>\n",
       "  </thead>\n",
       "  <tbody>\n",
       "    <tr>\n",
       "      <th>DOC_WW_Pin1_4</th>\n",
       "      <td>328</td>\n",
       "      <td>82</td>\n",
       "    </tr>\n",
       "    <tr>\n",
       "      <th>LIG_14-3-3_CanoR_1</th>\n",
       "      <td>334</td>\n",
       "      <td>55</td>\n",
       "    </tr>\n",
       "    <tr>\n",
       "      <th>LIG_AP2alpha_2</th>\n",
       "      <td>341</td>\n",
       "      <td>50</td>\n",
       "    </tr>\n",
       "    <tr>\n",
       "      <th>LIG_EH_1</th>\n",
       "      <td>335</td>\n",
       "      <td>56</td>\n",
       "    </tr>\n",
       "    <tr>\n",
       "      <th>LIG_SH2_GRB2like</th>\n",
       "      <td>341</td>\n",
       "      <td>30</td>\n",
       "    </tr>\n",
       "    <tr>\n",
       "      <th>LIG_SH3_CIN85_PxpxPR_1</th>\n",
       "      <td>345</td>\n",
       "      <td>33</td>\n",
       "    </tr>\n",
       "    <tr>\n",
       "      <th>TRAF6</th>\n",
       "      <td>294</td>\n",
       "      <td>12</td>\n",
       "    </tr>\n",
       "    <tr>\n",
       "      <th>enah_LPPPP_FPPPP</th>\n",
       "      <td>327</td>\n",
       "      <td>36</td>\n",
       "    </tr>\n",
       "  </tbody>\n",
       "</table>\n",
       "</div>"
      ],
      "text/plain": [
       "verified interaction    False  True \n",
       "ELM_motif_class                     \n",
       "DOC_WW_Pin1_4             328     82\n",
       "LIG_14-3-3_CanoR_1        334     55\n",
       "LIG_AP2alpha_2            341     50\n",
       "LIG_EH_1                  335     56\n",
       "LIG_SH2_GRB2like          341     30\n",
       "LIG_SH3_CIN85_PxpxPR_1    345     33\n",
       "TRAF6                     294     12\n",
       "enah_LPPPP_FPPPP          327     36"
      ]
     },
     "execution_count": 6,
     "metadata": {},
     "output_type": "execute_result"
    }
   ],
   "source": [
    "benchmark_df.groupby('ELM_motif_class')['verified interaction'].value_counts().unstack().fillna(0)"
   ]
  },
  {
   "cell_type": "code",
   "execution_count": 8,
   "metadata": {},
   "outputs": [
    {
     "data": {
      "text/plain": [
       "177"
      ]
     },
     "execution_count": 8,
     "metadata": {},
     "output_type": "execute_result"
    }
   ],
   "source": [
    "benchmark_df[benchmark_df['verified interaction']]['gene_id'].nunique()"
   ]
  },
  {
   "cell_type": "code",
   "execution_count": 13,
   "metadata": {},
   "outputs": [
    {
     "data": {
      "text/plain": [
       "<Axes: ylabel='Frequency'>"
      ]
     },
     "execution_count": 13,
     "metadata": {},
     "output_type": "execute_result"
    },
    {
     "data": {
      "image/png": "[encoded data removed]",
      "text/plain": [
       "<Figure size 640x480 with 1 Axes>"
      ]
     },
     "metadata": {},
     "output_type": "display_data"
    }
   ],
   "source": [
    "benchmark_df['seq_length'].plot.hist(bins=100)"
   ]
  },
  {
   "cell_type": "code",
   "execution_count": 18,
   "metadata": {},
   "outputs": [
    {
     "data": {
      "text/html": [
       "<div>\n",
       "<style scoped>\n",
       "    .dataframe tbody tr th:only-of-type {\n",
       "        vertical-align: middle;\n",
       "    }\n",
       "\n",
       "    .dataframe tbody tr th {\n",
       "        vertical-align: top;\n",
       "    }\n",
       "\n",
       "    .dataframe thead th {\n",
       "        text-align: right;\n",
       "    }\n",
       "</style>\n",
       "<table border=\"1\" class=\"dataframe\">\n",
       "  <thead>\n",
       "    <tr style=\"text-align: right;\">\n",
       "      <th></th>\n",
       "      <th>Organism</th>\n",
       "      <th>Primary_Acc</th>\n",
       "      <th>Accessions</th>\n",
       "      <th>UniprotID</th>\n",
       "      <th>regex</th>\n",
       "      <th>hit_sequence</th>\n",
       "      <th>gene_id</th>\n",
       "      <th>hit start position</th>\n",
       "      <th>hit end position</th>\n",
       "      <th>verified interaction</th>\n",
       "      <th>ELM_motif_class</th>\n",
       "      <th>name</th>\n",
       "      <th>reference DOI</th>\n",
       "      <th>seq_length</th>\n",
       "    </tr>\n",
       "  </thead>\n",
       "  <tbody>\n",
       "    <tr>\n",
       "      <th>2338</th>\n",
       "      <td>Homo sapiens</td>\n",
       "      <td>NaN</td>\n",
       "      <td>NaN</td>\n",
       "      <td>Q12955</td>\n",
       "      <td>[FL]PPPP</td>\n",
       "      <td>FPPPP</td>\n",
       "      <td>9606_0:0027f1</td>\n",
       "      <td>3253</td>\n",
       "      <td>3257</td>\n",
       "      <td>True</td>\n",
       "      <td>enah_LPPPP_FPPPP</td>\n",
       "      <td>ANK3_HUMAN</td>\n",
       "      <td>NaN</td>\n",
       "      <td>4377</td>\n",
       "    </tr>\n",
       "    <tr>\n",
       "      <th>2339</th>\n",
       "      <td>Homo sapiens</td>\n",
       "      <td>NaN</td>\n",
       "      <td>NaN</td>\n",
       "      <td>Q14517</td>\n",
       "      <td>[FL]PPPP</td>\n",
       "      <td>LPPPP</td>\n",
       "      <td>9606_0:00122c</td>\n",
       "      <td>4307</td>\n",
       "      <td>4311</td>\n",
       "      <td>True</td>\n",
       "      <td>enah_LPPPP_FPPPP</td>\n",
       "      <td>FAT1_HUMAN</td>\n",
       "      <td>NaN</td>\n",
       "      <td>4588</td>\n",
       "    </tr>\n",
       "    <tr>\n",
       "      <th>2340</th>\n",
       "      <td>Homo sapiens</td>\n",
       "      <td>NaN</td>\n",
       "      <td>NaN</td>\n",
       "      <td>Q14517</td>\n",
       "      <td>[FL]PPPP</td>\n",
       "      <td>FPPPP</td>\n",
       "      <td>9606_0:00122c</td>\n",
       "      <td>4434</td>\n",
       "      <td>4438</td>\n",
       "      <td>True</td>\n",
       "      <td>enah_LPPPP_FPPPP</td>\n",
       "      <td>FAT1_HUMAN</td>\n",
       "      <td>NaN</td>\n",
       "      <td>4588</td>\n",
       "    </tr>\n",
       "  </tbody>\n",
       "</table>\n",
       "</div>"
      ],
      "text/plain": [
       "          Organism Primary_Acc Accessions UniprotID     regex hit_sequence  \\\n",
       "2338  Homo sapiens         NaN        NaN    Q12955  [FL]PPPP        FPPPP   \n",
       "2339  Homo sapiens         NaN        NaN    Q14517  [FL]PPPP        LPPPP   \n",
       "2340  Homo sapiens         NaN        NaN    Q14517  [FL]PPPP        FPPPP   \n",
       "\n",
       "            gene_id  hit start position  hit end position  \\\n",
       "2338  9606_0:0027f1                3253              3257   \n",
       "2339  9606_0:00122c                4307              4311   \n",
       "2340  9606_0:00122c                4434              4438   \n",
       "\n",
       "      verified interaction   ELM_motif_class        name reference DOI  \\\n",
       "2338                  True  enah_LPPPP_FPPPP  ANK3_HUMAN           NaN   \n",
       "2339                  True  enah_LPPPP_FPPPP  FAT1_HUMAN           NaN   \n",
       "2340                  True  enah_LPPPP_FPPPP  FAT1_HUMAN           NaN   \n",
       "\n",
       "      seq_length  \n",
       "2338        4377  \n",
       "2339        4588  \n",
       "2340        4588  "
      ]
     },
     "execution_count": 18,
     "metadata": {},
     "output_type": "execute_result"
    }
   ],
   "source": [
    "benchmark_df[(benchmark_df['ELM_motif_class'] == 'enah_LPPPP_FPPPP') & (benchmark_df['verified interaction']) & (benchmark_df['seq_length'] > 4000)]"
   ]
  },
  {
   "cell_type": "code",
   "execution_count": 16,
   "metadata": {},
   "outputs": [
    {
     "data": {
      "text/html": [
       "<div>\n",
       "<style scoped>\n",
       "    .dataframe tbody tr th:only-of-type {\n",
       "        vertical-align: middle;\n",
       "    }\n",
       "\n",
       "    .dataframe tbody tr th {\n",
       "        vertical-align: top;\n",
       "    }\n",
       "\n",
       "    .dataframe thead th {\n",
       "        text-align: right;\n",
       "    }\n",
       "</style>\n",
       "<table border=\"1\" class=\"dataframe\">\n",
       "  <thead>\n",
       "    <tr style=\"text-align: right;\">\n",
       "      <th>verified interaction</th>\n",
       "      <th>False</th>\n",
       "      <th>True</th>\n",
       "    </tr>\n",
       "    <tr>\n",
       "      <th>ELM_motif_class</th>\n",
       "      <th></th>\n",
       "      <th></th>\n",
       "    </tr>\n",
       "  </thead>\n",
       "  <tbody>\n",
       "    <tr>\n",
       "      <th>DOC_WW_Pin1_4</th>\n",
       "      <td>318</td>\n",
       "      <td>82</td>\n",
       "    </tr>\n",
       "    <tr>\n",
       "      <th>LIG_14-3-3_CanoR_1</th>\n",
       "      <td>327</td>\n",
       "      <td>55</td>\n",
       "    </tr>\n",
       "    <tr>\n",
       "      <th>LIG_AP2alpha_2</th>\n",
       "      <td>337</td>\n",
       "      <td>50</td>\n",
       "    </tr>\n",
       "    <tr>\n",
       "      <th>LIG_EH_1</th>\n",
       "      <td>331</td>\n",
       "      <td>56</td>\n",
       "    </tr>\n",
       "    <tr>\n",
       "      <th>LIG_SH2_GRB2like</th>\n",
       "      <td>337</td>\n",
       "      <td>30</td>\n",
       "    </tr>\n",
       "    <tr>\n",
       "      <th>LIG_SH3_CIN85_PxpxPR_1</th>\n",
       "      <td>342</td>\n",
       "      <td>33</td>\n",
       "    </tr>\n",
       "    <tr>\n",
       "      <th>TRAF6</th>\n",
       "      <td>289</td>\n",
       "      <td>12</td>\n",
       "    </tr>\n",
       "    <tr>\n",
       "      <th>enah_LPPPP_FPPPP</th>\n",
       "      <td>327</td>\n",
       "      <td>33</td>\n",
       "    </tr>\n",
       "  </tbody>\n",
       "</table>\n",
       "</div>"
      ],
      "text/plain": [
       "verified interaction    False  True \n",
       "ELM_motif_class                     \n",
       "DOC_WW_Pin1_4             318     82\n",
       "LIG_14-3-3_CanoR_1        327     55\n",
       "LIG_AP2alpha_2            337     50\n",
       "LIG_EH_1                  331     56\n",
       "LIG_SH2_GRB2like          337     30\n",
       "LIG_SH3_CIN85_PxpxPR_1    342     33\n",
       "TRAF6                     289     12\n",
       "enah_LPPPP_FPPPP          327     33"
      ]
     },
     "execution_count": 16,
     "metadata": {},
     "output_type": "execute_result"
    }
   ],
   "source": [
    "benchmark_df[benchmark_df['seq_length']<4000].groupby('ELM_motif_class')['verified interaction'].value_counts().unstack().fillna(0)"
   ]
  },
  {
   "cell_type": "code",
   "execution_count": null,
   "metadata": {},
   "outputs": [],
   "source": []
  },
  {
   "cell_type": "code",
   "execution_count": null,
   "metadata": {},
   "outputs": [],
   "source": []
  },
  {
   "cell_type": "code",
   "execution_count": null,
   "metadata": {},
   "outputs": [],
   "source": []
  },
  {
   "cell_type": "code",
   "execution_count": null,
   "metadata": {},
   "outputs": [],
   "source": []
  },
  {
   "cell_type": "code",
   "execution_count": null,
   "metadata": {},
   "outputs": [],
   "source": []
  },
  {
   "cell_type": "code",
   "execution_count": null,
   "metadata": {},
   "outputs": [],
   "source": []
  },
  {
   "cell_type": "code",
   "execution_count": null,
   "metadata": {},
   "outputs": [],
   "source": []
  },
  {
   "cell_type": "code",
   "execution_count": null,
   "metadata": {},
   "outputs": [],
   "source": []
  },
  {
   "cell_type": "code",
   "execution_count": null,
   "metadata": {},
   "outputs": [],
   "source": []
  },
  {
   "cell_type": "code",
   "execution_count": null,
   "metadata": {},
   "outputs": [],
   "source": []
  },
  {
   "cell_type": "code",
   "execution_count": null,
   "metadata": {},
   "outputs": [],
   "source": []
  },
  {
   "cell_type": "code",
   "execution_count": null,
   "metadata": {},
   "outputs": [],
   "source": []
  },
  {
   "cell_type": "code",
   "execution_count": null,
   "metadata": {},
   "outputs": [],
   "source": []
  },
  {
   "cell_type": "code",
   "execution_count": null,
   "metadata": {},
   "outputs": [],
   "source": []
  },
  {
   "cell_type": "code",
   "execution_count": null,
   "metadata": {},
   "outputs": [],
   "source": []
  },
  {
   "cell_type": "code",
   "execution_count": null,
   "metadata": {},
   "outputs": [],
   "source": []
  },
  {
   "cell_type": "code",
   "execution_count": null,
   "metadata": {},
   "outputs": [],
   "source": []
  },
  {
   "cell_type": "code",
   "execution_count": null,
   "metadata": {},
   "outputs": [],
   "source": []
  },
  {
   "cell_type": "code",
   "execution_count": null,
   "metadata": {},
   "outputs": [],
   "source": []
  }
 ],
 "metadata": {
  "kernelspec": {
   "display_name": "slim_conservation",
   "language": "python",
   "name": "python3"
  },
  "language_info": {
   "codemirror_mode": {
    "name": "ipython",
    "version": 3
   },
   "file_extension": ".py",
   "mimetype": "text/x-python",
   "name": "python",
   "nbconvert_exporter": "python",
   "pygments_lexer": "ipython3",
   "version": "3.12.3"
  }
 },
 "nbformat": 4,
 "nbformat_minor": 2
}
