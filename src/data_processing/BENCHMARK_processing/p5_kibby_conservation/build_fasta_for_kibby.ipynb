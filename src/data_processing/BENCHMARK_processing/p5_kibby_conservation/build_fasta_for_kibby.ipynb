{
 "cells": [
  {
   "cell_type": "markdown",
   "metadata": {},
   "source": [
    "Prepare fasta file for kibby conservation scoring"
   ]
  },
  {
   "cell_type": "markdown",
   "metadata": {},
   "source": [
    "kibby conservation score method: [link](https://github.com/esbgkannan/kibby)\n",
    "\n",
    "from this paper:\n",
    ">Alignment-free estimation of sequence conservation for identifying functional sites using protein sequence embeddings.\n",
    ">Wayland Yeung, Zhongliang Zhou, Sheng Li, Natarajan Kannan.\n",
    ">Briefings in Bioinformatics. (2023)"
   ]
  },
  {
   "cell_type": "markdown",
   "metadata": {},
   "source": [
    "generate fasta file of all query proteins in the benchmark"
   ]
  },
  {
   "cell_type": "code",
   "execution_count": 1,
   "metadata": {},
   "outputs": [],
   "source": [
    "import pandas as pd\n",
    "import orthodb_tools.env_variables.env_variables as env\n",
    "from pathlib import Path\n",
    "from Bio import SeqIO"
   ]
  },
  {
   "cell_type": "code",
   "execution_count": 2,
   "metadata": {},
   "outputs": [],
   "source": [
    "benchmark_table = '../../../../benchmark/benchmark_v4/p1_table/benchmark_table.csv'\n",
    "df = pd.read_csv(benchmark_table)"
   ]
  },
  {
   "cell_type": "code",
   "execution_count": 3,
   "metadata": {},
   "outputs": [],
   "source": [
    "genes = df['gene_id'].unique()"
   ]
  },
  {
   "cell_type": "code",
   "execution_count": 4,
   "metadata": {},
   "outputs": [],
   "source": [
    "ODB_DATABASE = env.orthoDBDatabase()\n",
    "gene_seqs = ODB_DATABASE.get_sequences_from_list_of_seq_ids(genes)"
   ]
  },
  {
   "cell_type": "code",
   "execution_count": 5,
   "metadata": {},
   "outputs": [],
   "source": [
    "output_folder = Path('../../../../benchmark/benchmark_v4/kibby_scores/')\n",
    "output_folder.mkdir(parents=True, exist_ok=True)"
   ]
  },
  {
   "cell_type": "code",
   "execution_count": 6,
   "metadata": {},
   "outputs": [],
   "source": [
    "gene_seq_list = list(gene_seqs.values())\n",
    "with open(output_folder / 'gene_seqs.fasta', 'w') as f:\n",
    "    SeqIO.write(gene_seq_list, f, 'fasta')"
   ]
  }
 ],
 "metadata": {
  "kernelspec": {
   "display_name": "odb_conservation",
   "language": "python",
   "name": "python3"
  },
  "language_info": {
   "codemirror_mode": {
    "name": "ipython",
    "version": 3
   },
   "file_extension": ".py",
   "mimetype": "text/x-python",
   "name": "python",
   "nbconvert_exporter": "python",
   "pygments_lexer": "ipython3",
   "version": "3.12.3"
  }
 },
 "nbformat": 4,
 "nbformat_minor": 2
}
